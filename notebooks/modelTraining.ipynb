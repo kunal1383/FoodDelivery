{
 "cells": [
  {
   "cell_type": "code",
   "execution_count": 1,
   "metadata": {},
   "outputs": [],
   "source": [
    "import pandas as  pd \n",
    "import numpy as np \n"
   ]
  },
  {
   "cell_type": "code",
   "execution_count": 2,
   "metadata": {},
   "outputs": [],
   "source": [
    "df = pd.read_csv('../datasets/finalTrain.csv')"
   ]
  },
  {
   "cell_type": "code",
   "execution_count": 3,
   "metadata": {},
   "outputs": [
    {
     "data": {
      "text/html": [
       "<div>\n",
       "<style scoped>\n",
       "    .dataframe tbody tr th:only-of-type {\n",
       "        vertical-align: middle;\n",
       "    }\n",
       "\n",
       "    .dataframe tbody tr th {\n",
       "        vertical-align: top;\n",
       "    }\n",
       "\n",
       "    .dataframe thead th {\n",
       "        text-align: right;\n",
       "    }\n",
       "</style>\n",
       "<table border=\"1\" class=\"dataframe\">\n",
       "  <thead>\n",
       "    <tr style=\"text-align: right;\">\n",
       "      <th></th>\n",
       "      <th>ID</th>\n",
       "      <th>Delivery_person_ID</th>\n",
       "      <th>Delivery_person_Age</th>\n",
       "      <th>Delivery_person_Ratings</th>\n",
       "      <th>Restaurant_latitude</th>\n",
       "      <th>Restaurant_longitude</th>\n",
       "      <th>Delivery_location_latitude</th>\n",
       "      <th>Delivery_location_longitude</th>\n",
       "      <th>Order_Date</th>\n",
       "      <th>Time_Orderd</th>\n",
       "      <th>Time_Order_picked</th>\n",
       "      <th>Weather_conditions</th>\n",
       "      <th>Road_traffic_density</th>\n",
       "      <th>Vehicle_condition</th>\n",
       "      <th>Type_of_order</th>\n",
       "      <th>Type_of_vehicle</th>\n",
       "      <th>multiple_deliveries</th>\n",
       "      <th>Festival</th>\n",
       "      <th>City</th>\n",
       "      <th>Time_taken (min)</th>\n",
       "    </tr>\n",
       "  </thead>\n",
       "  <tbody>\n",
       "    <tr>\n",
       "      <th>0</th>\n",
       "      <td>0xcdcd</td>\n",
       "      <td>DEHRES17DEL01</td>\n",
       "      <td>36.0</td>\n",
       "      <td>4.2</td>\n",
       "      <td>30.327968</td>\n",
       "      <td>78.046106</td>\n",
       "      <td>30.397968</td>\n",
       "      <td>78.116106</td>\n",
       "      <td>12-02-2022</td>\n",
       "      <td>21:55</td>\n",
       "      <td>22:10</td>\n",
       "      <td>Fog</td>\n",
       "      <td>Jam</td>\n",
       "      <td>2</td>\n",
       "      <td>Snack</td>\n",
       "      <td>motorcycle</td>\n",
       "      <td>3.0</td>\n",
       "      <td>No</td>\n",
       "      <td>Metropolitian</td>\n",
       "      <td>46</td>\n",
       "    </tr>\n",
       "    <tr>\n",
       "      <th>1</th>\n",
       "      <td>0xd987</td>\n",
       "      <td>KOCRES16DEL01</td>\n",
       "      <td>21.0</td>\n",
       "      <td>4.7</td>\n",
       "      <td>10.003064</td>\n",
       "      <td>76.307589</td>\n",
       "      <td>10.043064</td>\n",
       "      <td>76.347589</td>\n",
       "      <td>13-02-2022</td>\n",
       "      <td>14:55</td>\n",
       "      <td>15:05</td>\n",
       "      <td>Stormy</td>\n",
       "      <td>High</td>\n",
       "      <td>1</td>\n",
       "      <td>Meal</td>\n",
       "      <td>motorcycle</td>\n",
       "      <td>1.0</td>\n",
       "      <td>No</td>\n",
       "      <td>Metropolitian</td>\n",
       "      <td>23</td>\n",
       "    </tr>\n",
       "    <tr>\n",
       "      <th>2</th>\n",
       "      <td>0x2784</td>\n",
       "      <td>PUNERES13DEL03</td>\n",
       "      <td>23.0</td>\n",
       "      <td>4.7</td>\n",
       "      <td>18.562450</td>\n",
       "      <td>73.916619</td>\n",
       "      <td>18.652450</td>\n",
       "      <td>74.006619</td>\n",
       "      <td>04-03-2022</td>\n",
       "      <td>17:30</td>\n",
       "      <td>17:40</td>\n",
       "      <td>Sandstorms</td>\n",
       "      <td>Medium</td>\n",
       "      <td>1</td>\n",
       "      <td>Drinks</td>\n",
       "      <td>scooter</td>\n",
       "      <td>1.0</td>\n",
       "      <td>No</td>\n",
       "      <td>Metropolitian</td>\n",
       "      <td>21</td>\n",
       "    </tr>\n",
       "    <tr>\n",
       "      <th>3</th>\n",
       "      <td>0xc8b6</td>\n",
       "      <td>LUDHRES15DEL02</td>\n",
       "      <td>34.0</td>\n",
       "      <td>4.3</td>\n",
       "      <td>30.899584</td>\n",
       "      <td>75.809346</td>\n",
       "      <td>30.919584</td>\n",
       "      <td>75.829346</td>\n",
       "      <td>13-02-2022</td>\n",
       "      <td>09:20</td>\n",
       "      <td>09:30</td>\n",
       "      <td>Sandstorms</td>\n",
       "      <td>Low</td>\n",
       "      <td>0</td>\n",
       "      <td>Buffet</td>\n",
       "      <td>motorcycle</td>\n",
       "      <td>0.0</td>\n",
       "      <td>No</td>\n",
       "      <td>Metropolitian</td>\n",
       "      <td>20</td>\n",
       "    </tr>\n",
       "    <tr>\n",
       "      <th>4</th>\n",
       "      <td>0xdb64</td>\n",
       "      <td>KNPRES14DEL02</td>\n",
       "      <td>24.0</td>\n",
       "      <td>4.7</td>\n",
       "      <td>26.463504</td>\n",
       "      <td>80.372929</td>\n",
       "      <td>26.593504</td>\n",
       "      <td>80.502929</td>\n",
       "      <td>14-02-2022</td>\n",
       "      <td>19:50</td>\n",
       "      <td>20:05</td>\n",
       "      <td>Fog</td>\n",
       "      <td>Jam</td>\n",
       "      <td>1</td>\n",
       "      <td>Snack</td>\n",
       "      <td>scooter</td>\n",
       "      <td>1.0</td>\n",
       "      <td>No</td>\n",
       "      <td>Metropolitian</td>\n",
       "      <td>41</td>\n",
       "    </tr>\n",
       "  </tbody>\n",
       "</table>\n",
       "</div>"
      ],
      "text/plain": [
       "       ID Delivery_person_ID  Delivery_person_Age  Delivery_person_Ratings  \\\n",
       "0  0xcdcd      DEHRES17DEL01                 36.0                      4.2   \n",
       "1  0xd987      KOCRES16DEL01                 21.0                      4.7   \n",
       "2  0x2784     PUNERES13DEL03                 23.0                      4.7   \n",
       "3  0xc8b6     LUDHRES15DEL02                 34.0                      4.3   \n",
       "4  0xdb64      KNPRES14DEL02                 24.0                      4.7   \n",
       "\n",
       "   Restaurant_latitude  Restaurant_longitude  Delivery_location_latitude  \\\n",
       "0            30.327968             78.046106                   30.397968   \n",
       "1            10.003064             76.307589                   10.043064   \n",
       "2            18.562450             73.916619                   18.652450   \n",
       "3            30.899584             75.809346                   30.919584   \n",
       "4            26.463504             80.372929                   26.593504   \n",
       "\n",
       "   Delivery_location_longitude  Order_Date Time_Orderd Time_Order_picked  \\\n",
       "0                    78.116106  12-02-2022       21:55             22:10   \n",
       "1                    76.347589  13-02-2022       14:55             15:05   \n",
       "2                    74.006619  04-03-2022       17:30             17:40   \n",
       "3                    75.829346  13-02-2022       09:20             09:30   \n",
       "4                    80.502929  14-02-2022       19:50             20:05   \n",
       "\n",
       "  Weather_conditions Road_traffic_density  Vehicle_condition Type_of_order  \\\n",
       "0                Fog                  Jam                  2         Snack   \n",
       "1             Stormy                 High                  1          Meal   \n",
       "2         Sandstorms               Medium                  1        Drinks   \n",
       "3         Sandstorms                  Low                  0        Buffet   \n",
       "4                Fog                  Jam                  1         Snack   \n",
       "\n",
       "  Type_of_vehicle  multiple_deliveries Festival           City  \\\n",
       "0      motorcycle                  3.0       No  Metropolitian   \n",
       "1      motorcycle                  1.0       No  Metropolitian   \n",
       "2         scooter                  1.0       No  Metropolitian   \n",
       "3      motorcycle                  0.0       No  Metropolitian   \n",
       "4         scooter                  1.0       No  Metropolitian   \n",
       "\n",
       "   Time_taken (min)  \n",
       "0                46  \n",
       "1                23  \n",
       "2                21  \n",
       "3                20  \n",
       "4                41  "
      ]
     },
     "execution_count": 3,
     "metadata": {},
     "output_type": "execute_result"
    }
   ],
   "source": [
    "df.head()"
   ]
  },
  {
   "cell_type": "code",
   "execution_count": 4,
   "metadata": {},
   "outputs": [],
   "source": [
    "df_copy = df.copy()"
   ]
  },
  {
   "cell_type": "code",
   "execution_count": 5,
   "metadata": {},
   "outputs": [
    {
     "data": {
      "text/plain": [
       "Index(['Delivery_person_Age', 'Delivery_person_Ratings', 'Restaurant_latitude',\n",
       "       'Restaurant_longitude', 'Delivery_location_latitude',\n",
       "       'Delivery_location_longitude', 'Order_Date', 'Time_Orderd',\n",
       "       'Time_Order_picked', 'Weather_conditions', 'Road_traffic_density',\n",
       "       'Vehicle_condition', 'Type_of_vehicle', 'multiple_deliveries',\n",
       "       'Festival', 'City', 'Time_taken (min)'],\n",
       "      dtype='object')"
      ]
     },
     "execution_count": 5,
     "metadata": {},
     "output_type": "execute_result"
    }
   ],
   "source": [
    "# Dropping the unique id and type of order columns\n",
    "df_copy.drop(labels=['ID', 'Delivery_person_ID','Type_of_order'],axis=1 ,inplace=True)\n",
    "df_copy.columns"
   ]
  },
  {
   "cell_type": "code",
   "execution_count": 6,
   "metadata": {},
   "outputs": [
    {
     "data": {
      "text/plain": [
       "Delivery_person_Age            1854\n",
       "Delivery_person_Ratings        1908\n",
       "Restaurant_latitude               0\n",
       "Restaurant_longitude              0\n",
       "Delivery_location_latitude        0\n",
       "Delivery_location_longitude       0\n",
       "Order_Date                        0\n",
       "Time_Orderd                    1731\n",
       "Time_Order_picked                 0\n",
       "Weather_conditions              616\n",
       "Road_traffic_density            601\n",
       "Vehicle_condition                 0\n",
       "Type_of_vehicle                   0\n",
       "multiple_deliveries             993\n",
       "Festival                        228\n",
       "City                           1200\n",
       "Time_taken (min)                  0\n",
       "dtype: int64"
      ]
     },
     "execution_count": 6,
     "metadata": {},
     "output_type": "execute_result"
    }
   ],
   "source": [
    "df_copy.isna().sum()"
   ]
  },
  {
   "cell_type": "code",
   "execution_count": 7,
   "metadata": {},
   "outputs": [],
   "source": [
    "## Lets deal with the null values and then proceed \n",
    "# Fill missing values in numerical columns with median\n",
    "numerical_columns = df_copy.select_dtypes(include=np.number).columns\n",
    "for col in numerical_columns:\n",
    "    median_value = df_copy[col].median()\n",
    "    df_copy[col].fillna(median_value, inplace=True)\n",
    "\n",
    "# Fill missing values in categorical columns with most frequent value\n",
    "categorical_columns = df_copy.select_dtypes(include='object').columns\n",
    "for col in categorical_columns:\n",
    "    most_frequent_value = df_copy[col].mode().iloc[0]\n",
    "    df_copy[col].fillna(most_frequent_value, inplace=True)"
   ]
  },
  {
   "cell_type": "code",
   "execution_count": 8,
   "metadata": {},
   "outputs": [],
   "source": [
    "# Convert to datetime format\n",
    "df_copy['Order_Date'] = pd.to_datetime(df_copy['Order_Date'], format='%d-%m-%Y')\n",
    "\n",
    "df_copy['year'] = df_copy['Order_Date'].dt.year \n",
    "df_copy['month'] = df_copy['Order_Date'].dt.month \n",
    "df_copy[\"day\"]=df_copy[\"Order_Date\"].dt.day"
   ]
  },
  {
   "cell_type": "code",
   "execution_count": 9,
   "metadata": {},
   "outputs": [],
   "source": [
    "# Converting time columns  into hrs and min columns\n",
    "\n",
    "import datetime\n",
    "def frac_to_time (column_name:str):\n",
    "    for i ,value in enumerate(df_copy[column_name]):\n",
    "        # checking if we are dealing with string and is a fraction time\n",
    "        if isinstance(value ,str) and '.' in value:\n",
    "            \n",
    "            fractional_hours = float(value)\n",
    "            # Convert fractional hours to seconds\n",
    "            total_seconds = fractional_hours * 24 * 60 * 60  \n",
    "            # we are getting extra decimal values so dealing with them\n",
    "            hours = int(total_seconds // 3600)\n",
    "            minutes = int((total_seconds % 3600) // 60)\n",
    "            seconds = int(total_seconds % 60)\n",
    "            time_value = f\"{hours:02d}:{minutes:02d}:{seconds:02d}\"\n",
    "            # Replace the fractional value with the valid time value\n",
    "            df_copy.at[i, column_name] = time_value\n",
    "\n"
   ]
  },
  {
   "cell_type": "code",
   "execution_count": 10,
   "metadata": {},
   "outputs": [],
   "source": [
    "frac_to_time('Time_Orderd') \n",
    "frac_to_time('Time_Order_picked')"
   ]
  },
  {
   "cell_type": "code",
   "execution_count": 11,
   "metadata": {},
   "outputs": [
    {
     "name": "stderr",
     "output_type": "stream",
     "text": [
      "C:\\Users\\kbarv\\AppData\\Local\\Temp\\ipykernel_21896\\46679988.py:1: UserWarning: Could not infer format, so each element will be parsed individually, falling back to `dateutil`. To ensure parsing is consistent and as-expected, please specify a format.\n",
      "  df_copy['Time_Orderd'] = pd.to_datetime(df_copy['Time_Orderd'], errors='coerce')\n",
      "C:\\Users\\kbarv\\AppData\\Local\\Temp\\ipykernel_21896\\46679988.py:2: UserWarning: Could not infer format, so each element will be parsed individually, falling back to `dateutil`. To ensure parsing is consistent and as-expected, please specify a format.\n",
      "  df_copy['Time_Order_picked'] = pd.to_datetime(df_copy['Time_Order_picked'], errors='coerce')\n"
     ]
    }
   ],
   "source": [
    "df_copy['Time_Orderd'] = pd.to_datetime(df_copy['Time_Orderd'], errors='coerce')\n",
    "df_copy['Time_Order_picked'] = pd.to_datetime(df_copy['Time_Order_picked'], errors='coerce')"
   ]
  },
  {
   "cell_type": "code",
   "execution_count": 12,
   "metadata": {},
   "outputs": [
    {
     "data": {
      "text/plain": [
       "Delivery_person_Age               0\n",
       "Delivery_person_Ratings           0\n",
       "Restaurant_latitude               0\n",
       "Restaurant_longitude              0\n",
       "Delivery_location_latitude        0\n",
       "Delivery_location_longitude       0\n",
       "Order_Date                        0\n",
       "Time_Orderd                     430\n",
       "Time_Order_picked              1320\n",
       "Weather_conditions                0\n",
       "Road_traffic_density              0\n",
       "Vehicle_condition                 0\n",
       "Type_of_vehicle                   0\n",
       "multiple_deliveries               0\n",
       "Festival                          0\n",
       "City                              0\n",
       "Time_taken (min)                  0\n",
       "year                              0\n",
       "month                             0\n",
       "day                               0\n",
       "dtype: int64"
      ]
     },
     "execution_count": 12,
     "metadata": {},
     "output_type": "execute_result"
    }
   ],
   "source": [
    "df_copy.isna().sum()"
   ]
  },
  {
   "cell_type": "code",
   "execution_count": 13,
   "metadata": {},
   "outputs": [
    {
     "data": {
      "text/plain": [
       "Delivery_person_Age            0\n",
       "Delivery_person_Ratings        0\n",
       "Restaurant_latitude            0\n",
       "Restaurant_longitude           0\n",
       "Delivery_location_latitude     0\n",
       "Delivery_location_longitude    0\n",
       "Order_Date                     0\n",
       "Time_Orderd                    0\n",
       "Time_Order_picked              0\n",
       "Weather_conditions             0\n",
       "Road_traffic_density           0\n",
       "Vehicle_condition              0\n",
       "Type_of_vehicle                0\n",
       "multiple_deliveries            0\n",
       "Festival                       0\n",
       "City                           0\n",
       "Time_taken (min)               0\n",
       "year                           0\n",
       "month                          0\n",
       "day                            0\n",
       "dtype: int64"
      ]
     },
     "execution_count": 13,
     "metadata": {},
     "output_type": "execute_result"
    }
   ],
   "source": [
    "# Filling the null values with most frequent time of order and time of ordered picked\n",
    "most_frequent_picked_time = df_copy['Time_Order_picked'].mode()[0]\n",
    "most_frequent_orderd_time = df_copy['Time_Orderd'].mode()[0]\n",
    "\n",
    "df_copy['Time_Order_picked'] = df_copy['Time_Order_picked'].fillna(most_frequent_picked_time)\n",
    "df_copy['Time_Orderd'] = df_copy['Time_Orderd'].fillna(most_frequent_orderd_time)\n",
    "df_copy.isna().sum()"
   ]
  },
  {
   "cell_type": "code",
   "execution_count": 14,
   "metadata": {},
   "outputs": [],
   "source": [
    "# separating hours and minutes into new columns\n",
    "df_copy['Time_Orderd_hour'] = df_copy['Time_Orderd'].dt.hour.astype(int)\n",
    "df_copy['Time_Orderd_minute'] = df_copy['Time_Orderd'].dt.minute.astype(int)\n",
    "\n",
    "df_copy['Time_Order_picked_hour'] = df_copy['Time_Order_picked'].dt.hour.astype(int)\n",
    "df_copy['Time_Order_picked_minute'] = df_copy['Time_Order_picked'].dt.minute.astype(int)"
   ]
  },
  {
   "cell_type": "code",
   "execution_count": 15,
   "metadata": {},
   "outputs": [
    {
     "data": {
      "text/plain": [
       "Index(['Delivery_person_Age', 'Delivery_person_Ratings', 'Restaurant_latitude',\n",
       "       'Restaurant_longitude', 'Delivery_location_latitude',\n",
       "       'Delivery_location_longitude', 'Order_Date', 'Time_Orderd',\n",
       "       'Time_Order_picked', 'Weather_conditions', 'Road_traffic_density',\n",
       "       'Vehicle_condition', 'Type_of_vehicle', 'multiple_deliveries',\n",
       "       'Festival', 'City', 'Time_taken (min)', 'year', 'month', 'day',\n",
       "       'Time_Orderd_hour', 'Time_Orderd_minute', 'Time_Order_picked_hour',\n",
       "       'Time_Order_picked_minute'],\n",
       "      dtype='object')"
      ]
     },
     "execution_count": 15,
     "metadata": {},
     "output_type": "execute_result"
    }
   ],
   "source": [
    "df_copy.columns"
   ]
  },
  {
   "cell_type": "code",
   "execution_count": 16,
   "metadata": {},
   "outputs": [
    {
     "name": "stdout",
     "output_type": "stream",
     "text": [
      "<class 'pandas.core.frame.DataFrame'>\n",
      "RangeIndex: 45584 entries, 0 to 45583\n",
      "Data columns (total 24 columns):\n",
      " #   Column                       Non-Null Count  Dtype         \n",
      "---  ------                       --------------  -----         \n",
      " 0   Delivery_person_Age          45584 non-null  float64       \n",
      " 1   Delivery_person_Ratings      45584 non-null  float64       \n",
      " 2   Restaurant_latitude          45584 non-null  float64       \n",
      " 3   Restaurant_longitude         45584 non-null  float64       \n",
      " 4   Delivery_location_latitude   45584 non-null  float64       \n",
      " 5   Delivery_location_longitude  45584 non-null  float64       \n",
      " 6   Order_Date                   45584 non-null  datetime64[ns]\n",
      " 7   Time_Orderd                  45584 non-null  datetime64[ns]\n",
      " 8   Time_Order_picked            45584 non-null  datetime64[ns]\n",
      " 9   Weather_conditions           45584 non-null  object        \n",
      " 10  Road_traffic_density         45584 non-null  object        \n",
      " 11  Vehicle_condition            45584 non-null  int64         \n",
      " 12  Type_of_vehicle              45584 non-null  object        \n",
      " 13  multiple_deliveries          45584 non-null  float64       \n",
      " 14  Festival                     45584 non-null  object        \n",
      " 15  City                         45584 non-null  object        \n",
      " 16  Time_taken (min)             45584 non-null  int64         \n",
      " 17  year                         45584 non-null  int32         \n",
      " 18  month                        45584 non-null  int32         \n",
      " 19  day                          45584 non-null  int32         \n",
      " 20  Time_Orderd_hour             45584 non-null  int32         \n",
      " 21  Time_Orderd_minute           45584 non-null  int32         \n",
      " 22  Time_Order_picked_hour       45584 non-null  int32         \n",
      " 23  Time_Order_picked_minute     45584 non-null  int32         \n",
      "dtypes: datetime64[ns](3), float64(7), int32(7), int64(2), object(5)\n",
      "memory usage: 7.1+ MB\n"
     ]
    }
   ],
   "source": [
    "df_copy.info()"
   ]
  },
  {
   "cell_type": "code",
   "execution_count": 17,
   "metadata": {},
   "outputs": [
    {
     "data": {
      "text/html": [
       "<div>\n",
       "<style scoped>\n",
       "    .dataframe tbody tr th:only-of-type {\n",
       "        vertical-align: middle;\n",
       "    }\n",
       "\n",
       "    .dataframe tbody tr th {\n",
       "        vertical-align: top;\n",
       "    }\n",
       "\n",
       "    .dataframe thead th {\n",
       "        text-align: right;\n",
       "    }\n",
       "</style>\n",
       "<table border=\"1\" class=\"dataframe\">\n",
       "  <thead>\n",
       "    <tr style=\"text-align: right;\">\n",
       "      <th></th>\n",
       "      <th>Delivery_person_Age</th>\n",
       "      <th>Delivery_person_Ratings</th>\n",
       "      <th>Restaurant_latitude</th>\n",
       "      <th>Restaurant_longitude</th>\n",
       "      <th>Delivery_location_latitude</th>\n",
       "      <th>Delivery_location_longitude</th>\n",
       "      <th>Order_Date</th>\n",
       "      <th>Time_Orderd</th>\n",
       "      <th>Time_Order_picked</th>\n",
       "      <th>Weather_conditions</th>\n",
       "      <th>...</th>\n",
       "      <th>Festival</th>\n",
       "      <th>City</th>\n",
       "      <th>Time_taken (min)</th>\n",
       "      <th>year</th>\n",
       "      <th>month</th>\n",
       "      <th>day</th>\n",
       "      <th>Time_Orderd_hour</th>\n",
       "      <th>Time_Orderd_minute</th>\n",
       "      <th>Time_Order_picked_hour</th>\n",
       "      <th>Time_Order_picked_minute</th>\n",
       "    </tr>\n",
       "  </thead>\n",
       "  <tbody>\n",
       "    <tr>\n",
       "      <th>0</th>\n",
       "      <td>36.0</td>\n",
       "      <td>4.2</td>\n",
       "      <td>30.327968</td>\n",
       "      <td>78.046106</td>\n",
       "      <td>30.397968</td>\n",
       "      <td>78.116106</td>\n",
       "      <td>2022-02-12</td>\n",
       "      <td>2023-08-05 21:55:00</td>\n",
       "      <td>2023-08-05 22:10:00</td>\n",
       "      <td>Fog</td>\n",
       "      <td>...</td>\n",
       "      <td>No</td>\n",
       "      <td>Metropolitian</td>\n",
       "      <td>46</td>\n",
       "      <td>2022</td>\n",
       "      <td>2</td>\n",
       "      <td>12</td>\n",
       "      <td>21</td>\n",
       "      <td>55</td>\n",
       "      <td>22</td>\n",
       "      <td>10</td>\n",
       "    </tr>\n",
       "    <tr>\n",
       "      <th>1</th>\n",
       "      <td>21.0</td>\n",
       "      <td>4.7</td>\n",
       "      <td>10.003064</td>\n",
       "      <td>76.307589</td>\n",
       "      <td>10.043064</td>\n",
       "      <td>76.347589</td>\n",
       "      <td>2022-02-13</td>\n",
       "      <td>2023-08-05 14:55:00</td>\n",
       "      <td>2023-08-05 15:05:00</td>\n",
       "      <td>Stormy</td>\n",
       "      <td>...</td>\n",
       "      <td>No</td>\n",
       "      <td>Metropolitian</td>\n",
       "      <td>23</td>\n",
       "      <td>2022</td>\n",
       "      <td>2</td>\n",
       "      <td>13</td>\n",
       "      <td>14</td>\n",
       "      <td>55</td>\n",
       "      <td>15</td>\n",
       "      <td>5</td>\n",
       "    </tr>\n",
       "    <tr>\n",
       "      <th>2</th>\n",
       "      <td>23.0</td>\n",
       "      <td>4.7</td>\n",
       "      <td>18.562450</td>\n",
       "      <td>73.916619</td>\n",
       "      <td>18.652450</td>\n",
       "      <td>74.006619</td>\n",
       "      <td>2022-03-04</td>\n",
       "      <td>2023-08-05 17:30:00</td>\n",
       "      <td>2023-08-05 17:40:00</td>\n",
       "      <td>Sandstorms</td>\n",
       "      <td>...</td>\n",
       "      <td>No</td>\n",
       "      <td>Metropolitian</td>\n",
       "      <td>21</td>\n",
       "      <td>2022</td>\n",
       "      <td>3</td>\n",
       "      <td>4</td>\n",
       "      <td>17</td>\n",
       "      <td>30</td>\n",
       "      <td>17</td>\n",
       "      <td>40</td>\n",
       "    </tr>\n",
       "    <tr>\n",
       "      <th>3</th>\n",
       "      <td>34.0</td>\n",
       "      <td>4.3</td>\n",
       "      <td>30.899584</td>\n",
       "      <td>75.809346</td>\n",
       "      <td>30.919584</td>\n",
       "      <td>75.829346</td>\n",
       "      <td>2022-02-13</td>\n",
       "      <td>2023-08-05 09:20:00</td>\n",
       "      <td>2023-08-05 09:30:00</td>\n",
       "      <td>Sandstorms</td>\n",
       "      <td>...</td>\n",
       "      <td>No</td>\n",
       "      <td>Metropolitian</td>\n",
       "      <td>20</td>\n",
       "      <td>2022</td>\n",
       "      <td>2</td>\n",
       "      <td>13</td>\n",
       "      <td>9</td>\n",
       "      <td>20</td>\n",
       "      <td>9</td>\n",
       "      <td>30</td>\n",
       "    </tr>\n",
       "    <tr>\n",
       "      <th>4</th>\n",
       "      <td>24.0</td>\n",
       "      <td>4.7</td>\n",
       "      <td>26.463504</td>\n",
       "      <td>80.372929</td>\n",
       "      <td>26.593504</td>\n",
       "      <td>80.502929</td>\n",
       "      <td>2022-02-14</td>\n",
       "      <td>2023-08-05 19:50:00</td>\n",
       "      <td>2023-08-05 20:05:00</td>\n",
       "      <td>Fog</td>\n",
       "      <td>...</td>\n",
       "      <td>No</td>\n",
       "      <td>Metropolitian</td>\n",
       "      <td>41</td>\n",
       "      <td>2022</td>\n",
       "      <td>2</td>\n",
       "      <td>14</td>\n",
       "      <td>19</td>\n",
       "      <td>50</td>\n",
       "      <td>20</td>\n",
       "      <td>5</td>\n",
       "    </tr>\n",
       "  </tbody>\n",
       "</table>\n",
       "<p>5 rows × 24 columns</p>\n",
       "</div>"
      ],
      "text/plain": [
       "   Delivery_person_Age  Delivery_person_Ratings  Restaurant_latitude  \\\n",
       "0                 36.0                      4.2            30.327968   \n",
       "1                 21.0                      4.7            10.003064   \n",
       "2                 23.0                      4.7            18.562450   \n",
       "3                 34.0                      4.3            30.899584   \n",
       "4                 24.0                      4.7            26.463504   \n",
       "\n",
       "   Restaurant_longitude  Delivery_location_latitude  \\\n",
       "0             78.046106                   30.397968   \n",
       "1             76.307589                   10.043064   \n",
       "2             73.916619                   18.652450   \n",
       "3             75.809346                   30.919584   \n",
       "4             80.372929                   26.593504   \n",
       "\n",
       "   Delivery_location_longitude Order_Date         Time_Orderd  \\\n",
       "0                    78.116106 2022-02-12 2023-08-05 21:55:00   \n",
       "1                    76.347589 2022-02-13 2023-08-05 14:55:00   \n",
       "2                    74.006619 2022-03-04 2023-08-05 17:30:00   \n",
       "3                    75.829346 2022-02-13 2023-08-05 09:20:00   \n",
       "4                    80.502929 2022-02-14 2023-08-05 19:50:00   \n",
       "\n",
       "    Time_Order_picked Weather_conditions  ... Festival           City  \\\n",
       "0 2023-08-05 22:10:00                Fog  ...       No  Metropolitian   \n",
       "1 2023-08-05 15:05:00             Stormy  ...       No  Metropolitian   \n",
       "2 2023-08-05 17:40:00         Sandstorms  ...       No  Metropolitian   \n",
       "3 2023-08-05 09:30:00         Sandstorms  ...       No  Metropolitian   \n",
       "4 2023-08-05 20:05:00                Fog  ...       No  Metropolitian   \n",
       "\n",
       "  Time_taken (min)  year month day  Time_Orderd_hour  Time_Orderd_minute  \\\n",
       "0               46  2022     2  12                21                  55   \n",
       "1               23  2022     2  13                14                  55   \n",
       "2               21  2022     3   4                17                  30   \n",
       "3               20  2022     2  13                 9                  20   \n",
       "4               41  2022     2  14                19                  50   \n",
       "\n",
       "   Time_Order_picked_hour  Time_Order_picked_minute  \n",
       "0                      22                        10  \n",
       "1                      15                         5  \n",
       "2                      17                        40  \n",
       "3                       9                        30  \n",
       "4                      20                         5  \n",
       "\n",
       "[5 rows x 24 columns]"
      ]
     },
     "execution_count": 17,
     "metadata": {},
     "output_type": "execute_result"
    }
   ],
   "source": [
    "df_copy.head()"
   ]
  },
  {
   "cell_type": "code",
   "execution_count": 18,
   "metadata": {},
   "outputs": [],
   "source": [
    "# Droping the 'Time_Orderd','Time_Order_picked' and order_date columns\n",
    "df_copy.drop([\"Time_Orderd\",\"Time_Order_picked\",\"Order_Date\"],axis=1,inplace=True)\n"
   ]
  },
  {
   "cell_type": "code",
   "execution_count": 19,
   "metadata": {},
   "outputs": [],
   "source": [
    "# Separating the features and target columns\n",
    "\n",
    "X = df_copy.drop(labels=['Time_taken (min)'] ,axis =1)\n",
    "y = df_copy['Time_taken (min)']"
   ]
  },
  {
   "cell_type": "code",
   "execution_count": 20,
   "metadata": {},
   "outputs": [
    {
     "data": {
      "text/plain": [
       "Index(['Delivery_person_Age', 'Delivery_person_Ratings', 'Restaurant_latitude',\n",
       "       'Restaurant_longitude', 'Delivery_location_latitude',\n",
       "       'Delivery_location_longitude', 'Weather_conditions',\n",
       "       'Road_traffic_density', 'Vehicle_condition', 'Type_of_vehicle',\n",
       "       'multiple_deliveries', 'Festival', 'City', 'year', 'month', 'day',\n",
       "       'Time_Orderd_hour', 'Time_Orderd_minute', 'Time_Order_picked_hour',\n",
       "       'Time_Order_picked_minute'],\n",
       "      dtype='object')"
      ]
     },
     "execution_count": 20,
     "metadata": {},
     "output_type": "execute_result"
    }
   ],
   "source": [
    "X.columns"
   ]
  },
  {
   "cell_type": "code",
   "execution_count": 21,
   "metadata": {},
   "outputs": [
    {
     "name": "stdout",
     "output_type": "stream",
     "text": [
      "<class 'pandas.core.frame.DataFrame'>\n",
      "RangeIndex: 45584 entries, 0 to 45583\n",
      "Data columns (total 20 columns):\n",
      " #   Column                       Non-Null Count  Dtype  \n",
      "---  ------                       --------------  -----  \n",
      " 0   Delivery_person_Age          45584 non-null  float64\n",
      " 1   Delivery_person_Ratings      45584 non-null  float64\n",
      " 2   Restaurant_latitude          45584 non-null  float64\n",
      " 3   Restaurant_longitude         45584 non-null  float64\n",
      " 4   Delivery_location_latitude   45584 non-null  float64\n",
      " 5   Delivery_location_longitude  45584 non-null  float64\n",
      " 6   Weather_conditions           45584 non-null  object \n",
      " 7   Road_traffic_density         45584 non-null  object \n",
      " 8   Vehicle_condition            45584 non-null  int64  \n",
      " 9   Type_of_vehicle              45584 non-null  object \n",
      " 10  multiple_deliveries          45584 non-null  float64\n",
      " 11  Festival                     45584 non-null  object \n",
      " 12  City                         45584 non-null  object \n",
      " 13  year                         45584 non-null  int32  \n",
      " 14  month                        45584 non-null  int32  \n",
      " 15  day                          45584 non-null  int32  \n",
      " 16  Time_Orderd_hour             45584 non-null  int32  \n",
      " 17  Time_Orderd_minute           45584 non-null  int32  \n",
      " 18  Time_Order_picked_hour       45584 non-null  int32  \n",
      " 19  Time_Order_picked_minute     45584 non-null  int32  \n",
      "dtypes: float64(7), int32(7), int64(1), object(5)\n",
      "memory usage: 5.7+ MB\n"
     ]
    }
   ],
   "source": [
    "X.info()"
   ]
  },
  {
   "cell_type": "code",
   "execution_count": 31,
   "metadata": {},
   "outputs": [],
   "source": [
    "\n",
    "#Separating the numerical ,categorical and ordinal\n",
    "categorical_cols = X.select_dtypes(include='object').columns\n",
    "numerical_cols = X.select_dtypes(exclude='object').columns\n",
    "ordinal_col = 'Road_traffic_density'\n",
    "categorical_cols = categorical_cols.drop(ordinal_col)\n",
    "\n",
    "# Separate the ordinal column from the rest of the categorical columns\n",
    "ordinal_cols = [ordinal_col]"
   ]
  },
  {
   "cell_type": "code",
   "execution_count": 32,
   "metadata": {},
   "outputs": [
    {
     "data": {
      "text/plain": [
       "Index(['Weather_conditions', 'Type_of_vehicle', 'Festival', 'City'], dtype='object')"
      ]
     },
     "execution_count": 32,
     "metadata": {},
     "output_type": "execute_result"
    }
   ],
   "source": [
    "df_copy[categorical_cols].columns"
   ]
  },
  {
   "cell_type": "code",
   "execution_count": 34,
   "metadata": {},
   "outputs": [
    {
     "name": "stdout",
     "output_type": "stream",
     "text": [
      "Index(['Delivery_person_Age', 'Delivery_person_Ratings', 'Restaurant_latitude',\n",
      "       'Restaurant_longitude', 'Delivery_location_latitude',\n",
      "       'Delivery_location_longitude', 'Vehicle_condition',\n",
      "       'multiple_deliveries', 'year', 'month', 'day', 'Time_Orderd_hour',\n",
      "       'Time_Orderd_minute', 'Time_Order_picked_hour',\n",
      "       'Time_Order_picked_minute'],\n",
      "      dtype='object')\n",
      "Index(['Weather_conditions', 'Type_of_vehicle', 'Festival', 'City'], dtype='object')\n",
      "['Road_traffic_density']\n"
     ]
    }
   ],
   "source": [
    "print(numerical_cols)\n",
    "print(categorical_cols)\n",
    "print(ordinal_cols)"
   ]
  },
  {
   "cell_type": "code",
   "execution_count": 35,
   "metadata": {},
   "outputs": [],
   "source": [
    "\n",
    "from sklearn.impute import SimpleImputer ## HAndling Missing Values\n",
    "from sklearn.preprocessing import StandardScaler # HAndling Feature Scaling\n",
    "from sklearn.preprocessing import OrdinalEncoder # Ordinal Encoding\n",
    "from sklearn.preprocessing import LabelEncoder # Label Encoding\n",
    "from sklearn.preprocessing import OneHotEncoder\n",
    "## pipelines\n",
    "from sklearn.pipeline import Pipeline ,make_pipeline\n",
    "from sklearn.compose import ColumnTransformer\n",
    "from sklearn.compose import make_column_transformer"
   ]
  },
  {
   "cell_type": "code",
   "execution_count": 36,
   "metadata": {},
   "outputs": [],
   "source": [
    "# As Road Traffic is ordinal column we will create custom ranking\n",
    "traffic_density = ['Low', 'Medium', 'High','Jam']"
   ]
  },
  {
   "cell_type": "code",
   "execution_count": 37,
   "metadata": {},
   "outputs": [],
   "source": [
    "# Custom ranking for Road_traffic_density column\n",
    "traffic_density = ['Low', 'Medium', 'High', 'Jam']\n",
    "\n",
    "\n",
    "# Create the transformers for numerical, ordinal, and nominal data\n",
    "num_transformer = Pipeline(\n",
    "    steps=[\n",
    "    ('imputer',SimpleImputer(strategy='median')),\n",
    "    ('scaler', StandardScaler(with_mean=False))\n",
    "\n",
    "    ]\n",
    ")\n",
    "\n",
    "ordinal_transformer = Pipeline(\n",
    "    steps=[\n",
    "    ('imputer',SimpleImputer(strategy='most_frequent')),\n",
    "    ('ordinalencoder',OrdinalEncoder(categories='auto')),\n",
    "    ('scaler',StandardScaler())\n",
    "    ]\n",
    ")\n",
    "\n",
    "nominal_transformer = Pipeline(\n",
    "    steps=[\n",
    "    ('imputer',SimpleImputer(strategy='most_frequent')),\n",
    "    ('onehotencoder', OneHotEncoder(handle_unknown='ignore')),\n",
    "    ('scaler', StandardScaler(with_mean=False))\n",
    "    ]\n",
    "   \n",
    ")\n",
    "\n",
    "# Create the column transformer\n",
    "preprocessor = ColumnTransformer(\n",
    "    transformers=[\n",
    "        ('num_transformer', num_transformer, numerical_cols),\n",
    "        ('ordinal_transformer', ordinal_transformer, ordinal_cols),\n",
    "        ('nominal_transformer', nominal_transformer, categorical_cols)\n",
    "    ]\n",
    ")"
   ]
  },
  {
   "cell_type": "code",
   "execution_count": 38,
   "metadata": {},
   "outputs": [],
   "source": [
    "## Train test split\n",
    "\n",
    "from sklearn.model_selection import train_test_split\n",
    "\n",
    "X_train,X_test,y_train,y_test=train_test_split(X,y,test_size=0.30,random_state=30)"
   ]
  },
  {
   "cell_type": "code",
   "execution_count": 39,
   "metadata": {},
   "outputs": [
    {
     "data": {
      "text/plain": [
       "pandas.core.frame.DataFrame"
      ]
     },
     "execution_count": 39,
     "metadata": {},
     "output_type": "execute_result"
    }
   ],
   "source": [
    "type(X_train)"
   ]
  },
  {
   "cell_type": "code",
   "execution_count": 40,
   "metadata": {},
   "outputs": [],
   "source": [
    "\n",
    "X_train=pd.DataFrame(preprocessor.fit_transform(X_train),columns=preprocessor.get_feature_names_out())\n",
    "X_test=pd.DataFrame(preprocessor.transform(X_test),columns=preprocessor.get_feature_names_out())\n"
   ]
  },
  {
   "cell_type": "code",
   "execution_count": 43,
   "metadata": {},
   "outputs": [],
   "source": [
    "\n",
    "def evaluate_model(true, predicted):\n",
    "    mae = mean_absolute_error(true, predicted)\n",
    "    mse = mean_squared_error(true, predicted)\n",
    "    rmse = np.sqrt(mean_squared_error(true, predicted))\n",
    "    r2_square = r2_score(true, predicted)\n",
    "    return mae, rmse, r2_square"
   ]
  },
  {
   "cell_type": "code",
   "execution_count": 52,
   "metadata": {},
   "outputs": [
    {
     "name": "stdout",
     "output_type": "stream",
     "text": [
      "LinearRegression\n",
      "Model Training Performance\n",
      "RMSE: 6.829008400395359\n",
      "MAE: 5.457626498976309\n",
      "R2 score: 46.0831249785547\n",
      "Best Parameters: None\n",
      "===================================\n",
      "\n",
      "\n",
      "Lasso\n",
      "Model Training Performance\n",
      "RMSE: 7.415639556147366\n",
      "MAE: 5.928449325218744\n",
      "R2 score: 36.42203195100977\n",
      "Best Parameters: None\n",
      "===================================\n",
      "\n",
      "\n",
      "Ridge\n",
      "Model Training Performance\n",
      "RMSE: 6.824170658638011\n",
      "MAE: 5.455235186996807\n",
      "R2 score: 46.15948848932173\n",
      "Best Parameters: None\n",
      "===================================\n",
      "\n",
      "\n",
      "Elasticnet\n",
      "Model Training Performance\n",
      "RMSE: 7.290932187294024\n",
      "MAE: 5.8669146786705335\n",
      "R2 score: 38.54240844578259\n",
      "Best Parameters: None\n",
      "===================================\n",
      "\n",
      "\n",
      "DecisionTree\n",
      "Model Training Performance\n",
      "RMSE: 5.087249918932047\n",
      "MAE: 3.9819348852377536\n",
      "R2 score: 70.07903707007243\n",
      "Best Parameters: {'min_samples_split': 10, 'min_samples_leaf': 2, 'max_depth': 10}\n",
      "===================================\n",
      "\n",
      "\n"
     ]
    }
   ],
   "source": [
    "from sklearn.tree import DecisionTreeRegressor\n",
    "from sklearn.svm import SVR\n",
    "from sklearn.model_selection import RandomizedSearchCV\n",
    "from scipy.stats import uniform\n",
    "\n",
    "def evaluate_model(true, predicted):\n",
    "    mae = mean_absolute_error(true, predicted)\n",
    "    mse = mean_squared_error(true, predicted)\n",
    "    rmse = np.sqrt(mean_squared_error(true, predicted))\n",
    "    r2_square = r2_score(true, predicted)\n",
    "    return mae, rmse, r2_square\n",
    "\n",
    "# Define hyperparameter search space for Decision Tree\n",
    "dt_param_dist = {\n",
    "    'max_depth': [None, 10, 20, 30, 40, 50],\n",
    "    'min_samples_split': [2, 5, 10],\n",
    "    'min_samples_leaf': [1, 2, 4]\n",
    "}\n",
    "\n",
    "# Define hyperparameter search space for SVM\n",
    "# svr_param_dist = {\n",
    "#     'C': uniform(loc=0, scale=10),\n",
    "#     'kernel': ['linear','rbf']\n",
    "# }\n",
    "\n",
    "models = {\n",
    "    'LinearRegression': LinearRegression(),\n",
    "    'Lasso': Lasso(),\n",
    "    'Ridge': Ridge(),\n",
    "    'Elasticnet': ElasticNet(),\n",
    "    'DecisionTree': DecisionTreeRegressor()\n",
    "    #'SVR': SVR()\n",
    "}\n",
    "\n",
    "model_list = []\n",
    "r2_list = []\n",
    "\n",
    "for model_name, model in models.items():\n",
    "    if model_name in ['DecisionTree', 'SVR']:\n",
    "        if model_name == 'DecisionTree':\n",
    "            random_search = RandomizedSearchCV(model, param_distributions=dt_param_dist, n_iter=10)\n",
    "        elif model_name == 'SVR':\n",
    "            random_search = RandomizedSearchCV(model, param_distributions=svr_param_dist, n_iter=10)\n",
    "        \n",
    "        random_search.fit(X_train, y_train)\n",
    "        model = random_search.best_estimator_\n",
    "    else:\n",
    "        model.fit(X_train, y_train)\n",
    "        \n",
    "    y_pred = model.predict(X_test)\n",
    "    \n",
    "    mae, rmse, r2_square = evaluate_model(y_test, y_pred)\n",
    "    \n",
    "    print(model_name)\n",
    "    model_list.append(model_name)\n",
    "    \n",
    "    print('Model Training Performance')\n",
    "    print(\"RMSE:\", rmse)\n",
    "    print(\"MAE:\", mae)\n",
    "    print(\"R2 score:\", r2_square * 100)\n",
    "    \n",
    "    r2_list.append(r2_square)\n",
    "    \n",
    "    print('Best Parameters:', random_search.best_params_ if model_name in ['DecisionTree', 'SVM'] else None)\n",
    "    \n",
    "    print('=' * 35)\n",
    "    print('\\n')\n"
   ]
  },
  {
   "cell_type": "code",
   "execution_count": null,
   "metadata": {},
   "outputs": [],
   "source": []
  },
  {
   "cell_type": "code",
   "execution_count": null,
   "metadata": {},
   "outputs": [],
   "source": []
  },
  {
   "cell_type": "code",
   "execution_count": null,
   "metadata": {},
   "outputs": [],
   "source": []
  },
  {
   "cell_type": "code",
   "execution_count": null,
   "metadata": {},
   "outputs": [],
   "source": []
  },
  {
   "cell_type": "markdown",
   "metadata": {},
   "source": [
    "## Without Pipline"
   ]
  },
  {
   "cell_type": "code",
   "execution_count": null,
   "metadata": {},
   "outputs": [],
   "source": [
    "# Custom ranking for Road_traffic_density column\n",
    "traffic_density = ['Low', 'Medium', 'High', 'Jam']\n",
    "\n",
    "# Numerical preprocessing\n",
    "num_imputer = SimpleImputer(strategy='median')\n",
    "num_scaler = StandardScaler()\n",
    "\n",
    "# Categorical preprocessing\n",
    "cat_imputer = SimpleImputer(strategy='most_frequent')\n",
    "cat_label_encoder = LabelEncoder()\n",
    "\n",
    "# Apply preprocessing to numerical columns\n",
    "X_train[numerical_cols] = num_imputer.fit_transform(X_train[numerical_cols])\n",
    "X_train[numerical_cols] = num_scaler.fit_transform(X_train[numerical_cols])\n",
    "\n",
    "X_test[numerical_cols] = num_imputer.transform(X_test[numerical_cols])\n",
    "X_test[numerical_cols] = num_scaler.transform(X_test[numerical_cols])\n",
    "\n",
    "# Handle missing values in categorical columns\n",
    "X_train[categorical_cols] = cat_imputer.fit_transform(X_train[categorical_cols])\n",
    "X_test[categorical_cols] = cat_imputer.transform(X_test[categorical_cols])\n",
    "\n",
    "# Encode Road_traffic_density using custom ordinal encoding\n",
    "X_train['Road_traffic_density'] = X_train['Road_traffic_density'].fillna('Unknown')\n",
    "X_train['Road_traffic_density'] = X_train['Road_traffic_density'].map(lambda x: traffic_density.index(x) if x in traffic_density else -1)\n",
    "\n",
    "X_test['Road_traffic_density'] = X_test['Road_traffic_density'].fillna('Unknown')\n",
    "X_test['Road_traffic_density'] = X_test['Road_traffic_density'].map(lambda x: traffic_density.index(x) if x in traffic_density else -1)\n"
   ]
  },
  {
   "cell_type": "code",
   "execution_count": null,
   "metadata": {},
   "outputs": [
    {
     "data": {
      "text/plain": [
       "array([3, 0, 1, 2], dtype=int64)"
      ]
     },
     "execution_count": 125,
     "metadata": {},
     "output_type": "execute_result"
    }
   ],
   "source": [
    "X_train['Road_traffic_density'].unique()"
   ]
  },
  {
   "cell_type": "code",
   "execution_count": 27,
   "metadata": {},
   "outputs": [],
   "source": []
  },
  {
   "cell_type": "code",
   "execution_count": null,
   "metadata": {},
   "outputs": [],
   "source": []
  },
  {
   "cell_type": "code",
   "execution_count": null,
   "metadata": {},
   "outputs": [],
   "source": []
  },
  {
   "cell_type": "code",
   "execution_count": 28,
   "metadata": {},
   "outputs": [],
   "source": []
  },
  {
   "cell_type": "code",
   "execution_count": null,
   "metadata": {},
   "outputs": [],
   "source": []
  },
  {
   "cell_type": "code",
   "execution_count": null,
   "metadata": {},
   "outputs": [],
   "source": []
  },
  {
   "cell_type": "code",
   "execution_count": null,
   "metadata": {},
   "outputs": [],
   "source": []
  }
 ],
 "metadata": {
  "kernelspec": {
   "display_name": "Python 3",
   "language": "python",
   "name": "python3"
  },
  "language_info": {
   "codemirror_mode": {
    "name": "ipython",
    "version": 3
   },
   "file_extension": ".py",
   "mimetype": "text/x-python",
   "name": "python",
   "nbconvert_exporter": "python",
   "pygments_lexer": "ipython3",
   "version": "3.8.0"
  },
  "orig_nbformat": 4
 },
 "nbformat": 4,
 "nbformat_minor": 2
}
